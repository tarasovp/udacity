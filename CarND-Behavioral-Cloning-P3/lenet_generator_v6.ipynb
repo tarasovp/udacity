{
 "cells": [
  {
   "cell_type": "code",
   "execution_count": 5,
   "metadata": {
    "collapsed": false,
    "deletable": true,
    "editable": true
   },
   "outputs": [],
   "source": [
    "import tensorflow as tf\n",
    "tf.python.control_flow_ops = tf\n",
    "\n",
    "import os\n",
    "\n",
    "os.environ['CUDA_VISIBLE_DEVICES']=str(1)\n",
    "\n",
    "import matplotlib.image as mpimg\n",
    "from sklearn.model_selection import train_test_split\n",
    "import tensorflow as tf\n",
    "import numpy as np\n",
    "import csv\n",
    "from keras.models import Sequential, Model\n",
    "from keras.layers import Conv2D, ConvLSTM2D, Dense, MaxPooling2D, Dropout, Flatten, Reshape, merge, Input\n",
    "from keras.optimizers import Adam\n",
    "from keras_tqdm import TQDMNotebookCallback\n",
    "from generator import generator\n",
    "from car_models import *\n",
    "from sklearn.utils import shuffle\n",
    "from tqdm import tqdm_notebook\n",
    "\n",
    "\n",
    "from get_images import get_images\n",
    "\n",
    "datadirs=['/notebooks/udacity/new_training/map1_backward/',\n",
    "                 '/notebooks/udacity/new_training/map1_forward/',\n",
    "                 '/notebooks/udacity/new_training/map1_recovery_backward/',\n",
    "                 '/notebooks/udacity/new_training/map1_recovery_forward/',\n",
    "                 '/notebooks/udacity/new_training/map2_forward/',\n",
    "                 '/notebooks/udacity/new_training/map2_backward/',\n",
    "                 '/notebooks/udacity/new_training/map2_recovery_forward/',\n",
    "                 '/notebooks/udacity/new_training/map2_recovery_backward/',\n",
    "                   '/notebooks/udacity/new_training/map1_error_correction/',\n",
    "                   '/notebooks/udacity/new_training/map2_error_correction/'\n",
    "         ]\n",
    "\n",
    "images=get_images(datadirs,0.08)\n",
    "image_names_full, y_data_full = images.img.values, images.real.values\n",
    "\n",
    "size=(40,80)\n",
    "\n",
    "def preprocessing_resize(im):\n",
    "    return cv2.resize(cv2.cvtColor(im, cv2.COLOR_BGR2YUV),(size[1],size[0]))\n",
    "\n",
    "def preprocessing_yuv(im):\n",
    "    return cv2.cvtColor(im, cv2.COLOR_BGR2YUV)\n",
    "\n",
    "def proc_img(img): # input is 160x320x3\n",
    "    img = img[59:138:2, 0:-1:2, :] # select vertical region and take each second pixel to reduce image dimensions\n",
    "    img = (img / 127.5) - 1.0 # normalize colors from 0-255 to -1.0 to 1.0\n",
    "    return img # return 40x160x3 image\n",
    "\n",
    "names_train, names_valid, y_train, y_valid = train_test_split(image_names_full, y_data_full, test_size=0.02,\\\n",
    "                            random_state=0)\n",
    "\n",
    "names_valid, names_test, y_valid, y_test = train_test_split(names_valid, y_valid, test_size=0.5,\\\n",
    "                                        random_state=0)\n",
    "\n",
    "inverse_train=[0 for i in y_train]+[1 for i in y_train]\n",
    "\n",
    "\n",
    "names_train=  np.concatenate([names_train,names_train])\n",
    "y_train    =   np.concatenate([y_train,y_train])\n",
    "\n",
    "names_train,y_train,inverse_train=shuffle(names_train,y_train,inverse_train) \n",
    "\n",
    "\n",
    "\n"
   ]
  },
  {
   "cell_type": "code",
   "execution_count": 33,
   "metadata": {
    "collapsed": true,
    "deletable": true,
    "editable": true
   },
   "outputs": [],
   "source": [
    "import os\n",
    "import pickle\n",
    "\n",
    "\n",
    "def train_model(get_model, preprocessing, name, optimizer = 'adam',nb_epoch=100):\n",
    "    #print ('Training model %s' % name)\n",
    "    \n",
    "    model=get_model()\n",
    "    model.compile(loss='mse', optimizer=optimizer, metrics=['mean_squared_error'])\n",
    "    \n",
    "    if not os.path.exists('results/logs_%s'%name):\n",
    "        os.mkdir('results/logs_%s'%name)\n",
    "    \n",
    "    \n",
    "    checkpoint = ModelCheckpoint(\"results/model_%s_{epoch:02d}.h5\" % name, monitor='val_mean_squared_error', verbose=1,\n",
    "                              save_best_only=False, mode='min')\n",
    "    early_stop = EarlyStopping(monitor='val_mean_squared_error',\\\n",
    "                               min_delta=0.001, patience=3,\n",
    "                                verbose=False, mode='min')\n",
    "\n",
    "    history = History()\n",
    "\n",
    "    tb=TensorBoard(log_dir='results/logs_%s'%name, histogram_freq=0, write_graph=True, write_images=False)\n",
    "    \n",
    "    train_gen=generator2(names_train, y_train, batch_size=64, preprocessing=preprocessing, inverse=inverse_train)\n",
    "    valid_gen=generator(names_valid, y_valid, batch_size=64, preprocessing=preprocessing)\n",
    "    test_gen= generator (names_test, y_test, batch_size=64,preprocessing=preprocessing)\n",
    "\n",
    "    q=model.fit_generator(train_gen, \\\n",
    "                    samples_per_epoch=len(names_train),\\\n",
    "                    nb_epoch=nb_epoch,\\\n",
    "                    verbose=False,\\\n",
    "                    validation_data=valid_gen, \\\n",
    "                    nb_val_samples=len(names_valid),\\\n",
    "                    callbacks=[checkpoint, early_stop,history,tb,TQDMNotebookCallback()]\\\n",
    "                   )\n",
    "    \n",
    "    f=open('results/history_%s.pk1' % name,'wb')\n",
    "    pickle.dump(history.history,f,-1)\n",
    "    f.close()\n",
    "    \n",
    "    model.load_weights(\"results/model_%s.h5\" % name)\n",
    "    \n",
    "    res=model.evaluate_generator(test_gen,val_samples=len(names_test))[0]\n",
    "    return q,res"
   ]
  },
  {
   "cell_type": "markdown",
   "metadata": {
    "collapsed": false,
    "deletable": true,
    "editable": true
   },
   "source": [
    "train_model(modified_vgg, proc_img, 'modified_vgg', optimizer=Adam(lr=0.0001), nb_epoch=10)"
   ]
  },
  {
   "cell_type": "code",
   "execution_count": 29,
   "metadata": {
    "collapsed": false,
    "deletable": true,
    "editable": true
   },
   "outputs": [],
   "source": [
    "grid=[{'get_model':modified_lenet,'preprocessing':lambda x:x,       'optimizer':'adam','name':'modified_lenet'},\\\n",
    "      {'get_model':modified_vgg,  'preprocessing': proc_img,        'optimizer':Adam(lr=0.0001),'name':'modified_vgg'},\\\n",
    "      {'get_model':nvidia_net,    'preprocessing':preprocessing_yuv,'optimizer':'adam','name':'nvidia_net'},\\\n",
    "      {'get_model':inception,     'preprocessing':lambda x:x,       'optimizer':'adam','name':'inception'},\\\n",
    "      {'get_model':vgg16,         'preprocessing':lambda x:x,       'optimizer':'adam','name':'vgg16'} ]"
   ]
  },
  {
   "cell_type": "code",
   "execution_count": 32,
   "metadata": {
    "collapsed": true,
    "deletable": true,
    "editable": true
   },
   "outputs": [],
   "source": [
    "%%sh\n",
    "\n",
    "rm -r results/\n",
    "mkdir results"
   ]
  },
  {
   "cell_type": "code",
   "execution_count": null,
   "metadata": {
    "collapsed": false,
    "deletable": true,
    "editable": true
   },
   "outputs": [
    {
     "name": "stderr",
     "output_type": "stream",
     "text": [
      "The installed widget Javascript is the wrong version.\n"
     ]
    },
    {
     "name": "stdout",
     "output_type": "stream",
     "text": [
      "WARNING:tensorflow:From /root/anaconda3/envs/carnd-term1/lib/python3.5/site-packages/keras/callbacks.py:618 in set_model.: merge_all_summaries (from tensorflow.python.ops.logging_ops) is deprecated and will be removed after 2016-11-30.\n",
      "Instructions for updating:\n",
      "Please switch to tf.summary.merge_all.\n"
     ]
    },
    {
     "name": "stderr",
     "output_type": "stream",
     "text": [
      "The installed widget Javascript is the wrong version.\n",
      "The installed widget Javascript is the wrong version.\n",
      "/root/anaconda3/envs/carnd-term1/lib/python3.5/site-packages/keras/engine/training.py:1569: UserWarning: Epoch comprised more than `samples_per_epoch` samples, which might affect learning results. Set `samples_per_epoch` correctly to avoid this warning.\n",
      "  warnings.warn('Epoch comprised more than '\n"
     ]
    },
    {
     "name": "stdout",
     "output_type": "stream",
     "text": [
      "Epoch 00000: saving model to results/model_nvidia_net_00.h5\n"
     ]
    },
    {
     "name": "stderr",
     "output_type": "stream",
     "text": [
      "The installed widget Javascript is the wrong version.\n"
     ]
    },
    {
     "name": "stdout",
     "output_type": "stream",
     "text": [
      "Epoch 00001: saving model to results/model_nvidia_net_01.h5\n"
     ]
    },
    {
     "name": "stderr",
     "output_type": "stream",
     "text": [
      "The installed widget Javascript is the wrong version.\n"
     ]
    },
    {
     "name": "stdout",
     "output_type": "stream",
     "text": [
      "Epoch 00008: saving model to results/model_nvidia_net_08.h5\n"
     ]
    },
    {
     "name": "stderr",
     "output_type": "stream",
     "text": [
      "The installed widget Javascript is the wrong version.\n"
     ]
    }
   ],
   "source": [
    "results=[train_model(**a) for a in tqdm_notebook(grid[2:], desc='models')]"
   ]
  },
  {
   "cell_type": "code",
   "execution_count": 59,
   "metadata": {
    "collapsed": false,
    "deletable": true,
    "editable": true
   },
   "outputs": [],
   "source": [
    "h=[\n",
    "\"results/history_modified_lenet.pk1\",\n",
    "\"results/history_modified_vgg.pk1\",\n",
    "\"results/history_nvidia_net.pk1\",\n",
    "\"results/history_vgg16.pk1\"\n",
    "]\n",
    "\n",
    "data=[]\n",
    "\n",
    "for a in h:\n",
    "    with open(a,'rb') as f:\n",
    "        data.append(pickle.load(f))"
   ]
  },
  {
   "cell_type": "code",
   "execution_count": 73,
   "metadata": {
    "collapsed": false,
    "deletable": true,
    "editable": true
   },
   "outputs": [
    {
     "data": {
      "image/png": "[encoded data removed]",
      "text/plain": [
       "<matplotlib.figure.Figure at 0x7f7e6001ff98>"
      ]
     },
     "metadata": {},
     "output_type": "display_data"
    },
    {
     "name": "stdout",
     "output_type": "stream",
     "text": [
      "best is modified_vgg\n"
     ]
    }
   ],
   "source": [
    "%matplotlib inline\n",
    "import matplotlib.pyplot as plt\n",
    "\n",
    "fig, ax = plt.subplots(2,2)\n",
    "fig.set_figheight(10)\n",
    "fig.set_figwidth(10)\n",
    "\n",
    "for q in range(4):\n",
    "    i,j = q % 2, int (q/2)\n",
    "    ax[i][j].set_title(h[q].split('/')[-1].split('.')[0].replace('history_','') + 'best %.3f' \\\n",
    "                       % min(data[q]['val_mean_squared_error']))\n",
    "    ax[i][j].plot(data[q]['val_mean_squared_error'],label='test')\n",
    "    ax[i][j].plot(data[q]['mean_squared_error'],label='train')\n",
    "    \n",
    "plt.savefig('images/fitting.png')    \n",
    "    \n",
    "plt.legend()\n",
    "plt.show()\n",
    "\n",
    "best=np.argmin([min(h['val_mean_squared_error']) for h in data])\n",
    "\n",
    "print ('best is %s' % h[best].split('/')[-1].split('.')[0].replace('history_',''))"
   ]
  },
  {
   "cell_type": "code",
   "execution_count": 53,
   "metadata": {
    "collapsed": false,
    "deletable": true,
    "editable": true
   },
   "outputs": [
    {
     "name": "stdout",
     "output_type": "stream",
     "text": [
      "results/history_modified_lenet.pk1\n",
      "results/history_modified_vgg.pk1\n",
      "results/history_nvidia_net.pk1\n"
     ]
    },
    {
     "data": {
      "image/png": "[encoded data removed]",
      "text/plain": [
       "<matplotlib.figure.Figure at 0x7f7e8c6c7e48>"
      ]
     },
     "metadata": {},
     "output_type": "display_data"
    }
   ],
   "source": [
    "%matplotlib inline\n",
    "import matplotlib.pyplot as plt\n",
    "\n",
    "for name, q in zip(h,data):\n",
    "    print (name)\n",
    "    plt.plot(q['mean_squared_error'],label=name)\n",
    "    \n",
    "plt.legend()\n",
    "plt.show()"
   ]
  },
  {
   "cell_type": "code",
   "execution_count": 72,
   "metadata": {
    "collapsed": true,
    "deletable": true,
    "editable": true
   },
   "outputs": [],
   "source": [
    "%%sh\n",
    "\n",
    "mkdir images"
   ]
  },
  {
   "cell_type": "code",
   "execution_count": 74,
   "metadata": {
    "collapsed": true,
    "deletable": true,
    "editable": true
   },
   "outputs": [],
   "source": [
    "model=modified_vgg()"
   ]
  },
  {
   "cell_type": "code",
   "execution_count": 75,
   "metadata": {
    "collapsed": false,
    "deletable": true,
    "editable": true
   },
   "outputs": [
    {
     "name": "stdout",
     "output_type": "stream",
     "text": [
      "____________________________________________________________________________________________________\n",
      "Layer (type)                     Output Shape          Param #     Connected to                     \n",
      "====================================================================================================\n",
      "input_4 (InputLayer)             (None, 40, 160, 3)    0                                            \n",
      "____________________________________________________________________________________________________\n",
      "convolution2d_46 (Convolution2D) (None, 40, 160, 3)    12          input_4[0][0]                    \n",
      "____________________________________________________________________________________________________\n",
      "maxpooling2d_26 (MaxPooling2D)   (None, 20, 80, 3)     0           convolution2d_46[0][0]           \n",
      "____________________________________________________________________________________________________\n",
      "convolution2d_47 (Convolution2D) (None, 20, 80, 32)    896         maxpooling2d_26[0][0]            \n",
      "____________________________________________________________________________________________________\n",
      "convolution2d_48 (Convolution2D) (None, 20, 80, 32)    9248        convolution2d_47[0][0]           \n",
      "____________________________________________________________________________________________________\n",
      "maxpooling2d_27 (MaxPooling2D)   (None, 10, 40, 32)    0           convolution2d_48[0][0]           \n",
      "____________________________________________________________________________________________________\n",
      "dropout_30 (Dropout)             (None, 10, 40, 32)    0           maxpooling2d_27[0][0]            \n",
      "____________________________________________________________________________________________________\n",
      "convolution2d_49 (Convolution2D) (None, 10, 40, 64)    18496       dropout_30[0][0]                 \n",
      "____________________________________________________________________________________________________\n",
      "convolution2d_50 (Convolution2D) (None, 10, 40, 64)    36928       convolution2d_49[0][0]           \n",
      "____________________________________________________________________________________________________\n",
      "maxpooling2d_28 (MaxPooling2D)   (None, 5, 20, 64)     0           convolution2d_50[0][0]           \n",
      "____________________________________________________________________________________________________\n",
      "dropout_31 (Dropout)             (None, 5, 20, 64)     0           maxpooling2d_28[0][0]            \n",
      "____________________________________________________________________________________________________\n",
      "convolution2d_51 (Convolution2D) (None, 5, 20, 64)     36928       dropout_31[0][0]                 \n",
      "____________________________________________________________________________________________________\n",
      "convolution2d_52 (Convolution2D) (None, 5, 20, 64)     36928       convolution2d_51[0][0]           \n",
      "____________________________________________________________________________________________________\n",
      "maxpooling2d_29 (MaxPooling2D)   (None, 2, 10, 64)     0           convolution2d_52[0][0]           \n",
      "____________________________________________________________________________________________________\n",
      "dropout_32 (Dropout)             (None, 2, 10, 64)     0           maxpooling2d_29[0][0]            \n",
      "____________________________________________________________________________________________________\n",
      "flatten_19 (Flatten)             (None, 12800)         0           dropout_30[0][0]                 \n",
      "____________________________________________________________________________________________________\n",
      "flatten_20 (Flatten)             (None, 6400)          0           dropout_31[0][0]                 \n",
      "____________________________________________________________________________________________________\n",
      "flatten_21 (Flatten)             (None, 1280)          0           dropout_32[0][0]                 \n",
      "____________________________________________________________________________________________________\n",
      "merge_4 (Merge)                  (None, 20480)         0           flatten_19[0][0]                 \n",
      "                                                                   flatten_20[0][0]                 \n",
      "                                                                   flatten_21[0][0]                 \n",
      "____________________________________________________________________________________________________\n",
      "dense_37 (Dense)                 (None, 512)           10486272    merge_4[0][0]                    \n",
      "____________________________________________________________________________________________________\n",
      "dense_38 (Dense)                 (None, 128)           65664       dense_37[0][0]                   \n",
      "____________________________________________________________________________________________________\n",
      "dense_39 (Dense)                 (None, 16)            2064        dense_38[0][0]                   \n",
      "____________________________________________________________________________________________________\n",
      "dense_40 (Dense)                 (None, 1)             17          dense_39[0][0]                   \n",
      "====================================================================================================\n",
      "Total params: 10,693,453\n",
      "Trainable params: 10,693,453\n",
      "Non-trainable params: 0\n",
      "____________________________________________________________________________________________________\n"
     ]
    }
   ],
   "source": [
    "model.summary()"
   ]
  },
  {
   "cell_type": "code",
   "execution_count": 76,
   "metadata": {
    "collapsed": false,
    "deletable": true,
    "editable": true
   },
   "outputs": [
    {
     "data": {
      "text/plain": [
       "275616"
      ]
     },
     "execution_count": 76,
     "metadata": {},
     "output_type": "execute_result"
    }
   ],
   "source": [
    "len(images)"
   ]
  },
  {
   "cell_type": "code",
   "execution_count": 82,
   "metadata": {
    "collapsed": false,
    "deletable": true,
    "editable": true
   },
   "outputs": [
    {
     "ename": "ImportError",
     "evalue": "No module named 'pydot'",
     "output_type": "error",
     "traceback": [
      "\u001b[0;31m\u001b[0m",
      "\u001b[0;31mImportError\u001b[0mTraceback (most recent call last)",
      "\u001b[0;32m/root/anaconda3/envs/carnd-term1/lib/python3.5/site-packages/keras/utils/visualize_util.py\u001b[0m in \u001b[0;36m<module>\u001b[0;34m()\u001b[0m\n\u001b[1;32m      8\u001b[0m     \u001b[0;31m# pydot-ng is a fork of pydot that is better maintained.\u001b[0m\u001b[0;34m\u001b[0m\u001b[0;34m\u001b[0m\u001b[0m\n\u001b[0;32m----> 9\u001b[0;31m     \u001b[0;32mimport\u001b[0m \u001b[0mpydot_ng\u001b[0m \u001b[0;32mas\u001b[0m \u001b[0mpydot\u001b[0m\u001b[0;34m\u001b[0m\u001b[0m\n\u001b[0m\u001b[1;32m     10\u001b[0m \u001b[0;32mexcept\u001b[0m \u001b[0mImportError\u001b[0m\u001b[0;34m:\u001b[0m\u001b[0;34m\u001b[0m\u001b[0m\n",
      "\u001b[0;31mImportError\u001b[0m: No module named 'pydot_ng'",
      "\nDuring handling of the above exception, another exception occurred:\n",
      "\u001b[0;31mImportError\u001b[0mTraceback (most recent call last)",
      "\u001b[0;32m<ipython-input-82-ed359c92d086>\u001b[0m in \u001b[0;36m<module>\u001b[0;34m()\u001b[0m\n\u001b[0;32m----> 1\u001b[0;31m \u001b[0;32mfrom\u001b[0m \u001b[0mkeras\u001b[0m\u001b[0;34m.\u001b[0m\u001b[0mutils\u001b[0m\u001b[0;34m.\u001b[0m\u001b[0mvisualize_util\u001b[0m \u001b[0;32mimport\u001b[0m \u001b[0mplot_model\u001b[0m\u001b[0;34m\u001b[0m\u001b[0m\n\u001b[0m\u001b[1;32m      2\u001b[0m \u001b[0;31m#plot_model(model, to_file='images/model.png')\u001b[0m\u001b[0;34m\u001b[0m\u001b[0;34m\u001b[0m\u001b[0m\n",
      "\u001b[0;32m/root/anaconda3/envs/carnd-term1/lib/python3.5/site-packages/keras/utils/visualize_util.py\u001b[0m in \u001b[0;36m<module>\u001b[0;34m()\u001b[0m\n\u001b[1;32m     10\u001b[0m \u001b[0;32mexcept\u001b[0m \u001b[0mImportError\u001b[0m\u001b[0;34m:\u001b[0m\u001b[0;34m\u001b[0m\u001b[0m\n\u001b[1;32m     11\u001b[0m     \u001b[0;31m# Fall back on pydot if necessary.\u001b[0m\u001b[0;34m\u001b[0m\u001b[0;34m\u001b[0m\u001b[0m\n\u001b[0;32m---> 12\u001b[0;31m     \u001b[0;32mimport\u001b[0m \u001b[0mpydot\u001b[0m\u001b[0;34m\u001b[0m\u001b[0m\n\u001b[0m\u001b[1;32m     13\u001b[0m \u001b[0;32mif\u001b[0m \u001b[0;32mnot\u001b[0m \u001b[0mpydot\u001b[0m\u001b[0;34m.\u001b[0m\u001b[0mfind_graphviz\u001b[0m\u001b[0;34m(\u001b[0m\u001b[0;34m)\u001b[0m\u001b[0;34m:\u001b[0m\u001b[0;34m\u001b[0m\u001b[0m\n\u001b[1;32m     14\u001b[0m     raise ImportError('Failed to import pydot. You must install pydot'\n",
      "\u001b[0;31mImportError\u001b[0m: No module named 'pydot'"
     ]
    }
   ],
   "source": [
    "from keras.utils.visualize_util import plot_model\n",
    "#plot_model(model, to_file='images/model.png')"
   ]
  },
  {
   "cell_type": "code",
   "execution_count": null,
   "metadata": {
    "collapsed": true
   },
   "outputs": [],
   "source": []
  }
 ],
 "metadata": {
  "kernelspec": {
   "display_name": "carnd",
   "language": "python",
   "name": "carnd-term1"
  }
 },
 "nbformat": 4,
 "nbformat_minor": 2
}
