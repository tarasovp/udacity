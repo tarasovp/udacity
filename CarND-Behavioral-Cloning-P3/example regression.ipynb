{
 "cells": [
  {
   "cell_type": "code",
   "execution_count": 11,
   "metadata": {
    "collapsed": true
   },
   "outputs": [],
   "source": [
    "import pandas as pd\n",
    "import cv2\n",
    "import numpy as np"
   ]
  },
  {
   "cell_type": "code",
   "execution_count": 18,
   "metadata": {
    "collapsed": false
   },
   "outputs": [],
   "source": [
    "folder='/Users/p.tarasov/Desktop/udacity_images/'"
   ]
  },
  {
   "cell_type": "code",
   "execution_count": 20,
   "metadata": {
    "collapsed": false
   },
   "outputs": [],
   "source": [
    "df=pd.read_csv(folder+'driving_log.csv',\\\n",
    "            names=['center','left','right','measurement','x2','x3','x4'])"
   ]
  },
  {
   "cell_type": "code",
   "execution_count": 16,
   "metadata": {
    "collapsed": false
   },
   "outputs": [],
   "source": [
    "images=np.empty((len(df),160,320,3), dtype=np.uint8)\n",
    "for i,fname in enumerate(df['center'].values):\n",
    "    images[i]=cv2.imread(fname)"
   ]
  },
  {
   "cell_type": "code",
   "execution_count": 21,
   "metadata": {
    "collapsed": false
   },
   "outputs": [],
   "source": [
    "from keras.models import Sequential\n",
    "from keras.layers import Flatten,Dense"
   ]
  },
  {
   "cell_type": "code",
   "execution_count": 23,
   "metadata": {
    "collapsed": false
   },
   "outputs": [],
   "source": [
    "model=Sequential()\n",
    "model.add(Flatten(input_shape=(160,320,3)))\n",
    "model.add(Dense(1))"
   ]
  },
  {
   "cell_type": "code",
   "execution_count": 24,
   "metadata": {
    "collapsed": false
   },
   "outputs": [],
   "source": [
    "model.compile(loss='mse',optimizer='adam')"
   ]
  },
  {
   "cell_type": "code",
   "execution_count": 25,
   "metadata": {
    "collapsed": false
   },
   "outputs": [
    {
     "name": "stderr",
     "output_type": "stream",
     "text": [
      "/Users/p.tarasov/anaconda3/anaconda/envs/carnd-term1/lib/python3.5/site-packages/keras/models.py:826: UserWarning: The `nb_epoch` argument in `fit` has been renamed `epochs`.\n",
      "  warnings.warn('The `nb_epoch` argument in `fit` '\n"
     ]
    },
    {
     "name": "stdout",
     "output_type": "stream",
     "text": [
      "Train on 5911 samples, validate on 1478 samples\n",
      "Epoch 1/7\n",
      "5911/5911 [==============================] - 6s - loss: 10470800.3298 - val_loss: 7409.7115\n",
      "Epoch 2/7\n",
      "5911/5911 [==============================] - 8s - loss: 4658.4703 - val_loss: 2762.5402\n",
      "Epoch 3/7\n",
      "5911/5911 [==============================] - 6s - loss: 2744.7580 - val_loss: 2906.3486\n",
      "Epoch 4/7\n",
      "5911/5911 [==============================] - 6s - loss: 2153.1202 - val_loss: 2170.1286\n",
      "Epoch 5/7\n",
      "5911/5911 [==============================] - 7s - loss: 2333.3853 - val_loss: 1584.1199\n",
      "Epoch 6/7\n",
      "5911/5911 [==============================] - 7s - loss: 2171.2237 - val_loss: 2899.7913\n",
      "Epoch 7/7\n",
      "5911/5911 [==============================] - 7s - loss: 1661.0490 - val_loss: 1404.5507\n"
     ]
    },
    {
     "data": {
      "text/plain": [
       "<keras.callbacks.History at 0x15d3a4f60>"
      ]
     },
     "execution_count": 25,
     "metadata": {},
     "output_type": "execute_result"
    }
   ],
   "source": [
    "model.fit(images, df['measurement'].values, validation_split=0.2, shuffle=True, epochs=7)"
   ]
  },
  {
   "cell_type": "code",
   "execution_count": 26,
   "metadata": {
    "collapsed": true
   },
   "outputs": [],
   "source": [
    "model.save('model.h5')"
   ]
  },
  {
   "cell_type": "code",
   "execution_count": null,
   "metadata": {
    "collapsed": true
   },
   "outputs": [],
   "source": []
  }
 ],
 "metadata": {
  "kernelspec": {
   "display_name": "cars",
   "language": "python",
   "name": "python3"
  },
  "language_info": {
   "codemirror_mode": {
    "name": "ipython",
    "version": 3
   },
   "file_extension": ".py",
   "mimetype": "text/x-python",
   "name": "python",
   "nbconvert_exporter": "python",
   "pygments_lexer": "ipython3",
   "version": "3.5.2"
  }
 },
 "nbformat": 4,
 "nbformat_minor": 0
}
